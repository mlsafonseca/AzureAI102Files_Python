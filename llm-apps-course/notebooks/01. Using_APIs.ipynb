{
  "cells": [
    {
      "cell_type": "markdown",
      "metadata": {
        "id": "view-in-github",
        "colab_type": "text"
      },
      "source": [
        "<a href=\"https://colab.research.google.com/github/mlsafonseca/AzureAI102Files_Python/blob/main/llm-apps-course/notebooks/01.%20Using_APIs.ipynb\" target=\"_parent\"><img src=\"https://colab.research.google.com/assets/colab-badge.svg\" alt=\"Open In Colab\"/></a>"
      ]
    },
    {
      "cell_type": "markdown",
      "metadata": {
        "id": "hdV21A21adUI"
      },
      "source": [
        "<a href=\"https://colab.research.google.com/github/wandb/edu/blob/main/llm-apps-course/notebooks/01.%20Using_APIs.ipynb\" target=\"_parent\"><img src=\"https://colab.research.google.com/assets/colab-badge.svg\" alt=\"Open In Colab\"/></a>\n",
        "<!--- @wandbcode{llmapps-intro} -->"
      ]
    },
    {
      "cell_type": "markdown",
      "metadata": {
        "id": "emNOHGDhadUL"
      },
      "source": [
        "# Understanding LLM APIs\n",
        "\n",
        "We will explore OpenAI models API to generate text.\n",
        "\n",
        "<!--- @wandbcode{llmapps-intro} -->"
      ]
    },
    {
      "cell_type": "markdown",
      "metadata": {
        "id": "aggsf_XXadUM"
      },
      "source": [
        "### Setup"
      ]
    },
    {
      "cell_type": "code",
      "execution_count": null,
      "metadata": {
        "id": "oNNr0quEadUM"
      },
      "outputs": [],
      "source": [
        "%pip install --upgrade openai==0.27.2 tiktoken wandb -qq"
      ]
    },
    {
      "cell_type": "code",
      "execution_count": null,
      "metadata": {
        "id": "Mr917ADiadUO"
      },
      "outputs": [],
      "source": [
        "import os\n",
        "import openai\n",
        "import tiktoken\n",
        "import wandb\n",
        "from pprint import pprint\n",
        "from getpass import getpass\n",
        "from wandb.integration.openai import autolog"
      ]
    },
    {
      "cell_type": "markdown",
      "metadata": {
        "id": "qeC4SvAGadUO"
      },
      "source": [
        "You will need an OpenAI API key to run this notebook. You can get one [here](https://platform.openai.com/account/api-keys)."
      ]
    },
    {
      "cell_type": "code",
      "execution_count": null,
      "metadata": {
        "id": "snAF_2CDadUO"
      },
      "outputs": [],
      "source": [
        "if os.getenv(\"OPENAI_API_KEY\") is None:\n",
        "  if any(['VSCODE' in x for x in os.environ.keys()]):\n",
        "    print('Please enter password in the VS Code prompt at the top of your VS Code window!')\n",
        "  os.environ[\"OPENAI_API_KEY\"] = getpass(\"Paste your OpenAI key from: https://platform.openai.com/account/api-keys\\n\")\n",
        "  openai.api_key = os.getenv(\"OPENAI_API_KEY\", \"\")\n",
        "\n",
        "assert os.getenv(\"OPENAI_API_KEY\", \"\").startswith(\"sk-\"), \"This doesn't look like a valid OpenAI API key\"\n",
        "print(\"OpenAI API key configured\")"
      ]
    },
    {
      "cell_type": "markdown",
      "metadata": {
        "id": "bYP1VYuhadUP"
      },
      "source": [
        "Let's enable W&B autologging to track our experiments."
      ]
    },
    {
      "cell_type": "code",
      "execution_count": null,
      "metadata": {
        "id": "5dhTmPuTadUP"
      },
      "outputs": [],
      "source": [
        "# start logging to W&B\n",
        "autolog({\"project\":\"llmapps\", \"job_type\": \"introduction\"})"
      ]
    },
    {
      "cell_type": "markdown",
      "metadata": {
        "id": "R88cENM_adUQ"
      },
      "source": [
        "# Tokenization"
      ]
    },
    {
      "cell_type": "code",
      "execution_count": null,
      "metadata": {
        "id": "EXiPStLBadUQ"
      },
      "outputs": [],
      "source": [
        "encoding = tiktoken.encoding_for_model(\"text-davinci-003\")\n",
        "enc = encoding.encode(\"Weights & Biases is awesome!\")\n",
        "print(enc)\n",
        "print(encoding.decode(enc))"
      ]
    },
    {
      "cell_type": "markdown",
      "metadata": {
        "id": "xqqP5lZGadUQ"
      },
      "source": [
        "we can decode the tokens one by one"
      ]
    },
    {
      "cell_type": "code",
      "execution_count": null,
      "metadata": {
        "id": "t-wbFz9KadUQ"
      },
      "outputs": [],
      "source": [
        "for token_id in enc:\n",
        "    print(f\"{token_id}\\t{encoding.decode([token_id])}\")"
      ]
    },
    {
      "cell_type": "markdown",
      "metadata": {
        "id": "IS2cJHGWadUQ"
      },
      "source": [
        "> Note how the leading tokens contain spacing."
      ]
    },
    {
      "cell_type": "markdown",
      "metadata": {
        "id": "bLJBvjK_adUQ"
      },
      "source": [
        "# Sampling"
      ]
    },
    {
      "cell_type": "markdown",
      "metadata": {
        "id": "57x-weJcadUR"
      },
      "source": [
        "Let's sample some text from the model. For this, let's create a wrapper function around the temperature parameters.\n",
        "Higher temperature will result in more random samples."
      ]
    },
    {
      "cell_type": "code",
      "execution_count": null,
      "metadata": {
        "id": "XB4PnH5HadUR"
      },
      "outputs": [],
      "source": [
        "def generate_with_temperature(temp):\n",
        "  \"Generate text with a given temperature, higher temperature means more randomness\"\n",
        "  response = openai.Completion.create(\n",
        "    model=\"text-davinci-003\",\n",
        "    prompt=\"Say something about Weights & Biases\",\n",
        "    max_tokens=50,\n",
        "    temperature=temp,\n",
        "  )\n",
        "  return response.choices[0].text"
      ]
    },
    {
      "cell_type": "code",
      "execution_count": null,
      "metadata": {
        "id": "1nLA1BgvadUR"
      },
      "outputs": [],
      "source": [
        "for temp in [0, 0.5, 1, 1.5, 2]:\n",
        "  pprint(f'TEMP: {temp}, GENERATION: {generate_with_temperature(temp)}')"
      ]
    },
    {
      "cell_type": "markdown",
      "metadata": {
        "id": "gz2HXoIzadUR"
      },
      "source": [
        "You can also use the [`top_p` parameter](https://platform.openai.com/docs/api-reference/completions/create#completions/create-top_p) to control the diversity of the generated text. This parameter controls the cumulative probability of the next token. For example, if `top_p=0.9`, the model will pick the next token from the top 90% most likely tokens. The higher the `top_p` the more likely the model will pick a token that it hasn't seen before. You should only use one of `temperature` or `top_p` at a given time."
      ]
    },
    {
      "cell_type": "code",
      "execution_count": null,
      "metadata": {
        "id": "XLtYPpy_adUR"
      },
      "outputs": [],
      "source": [
        "def generate_with_topp(topp):\n",
        "  \"Generate text with a given top-p, higher top-p means more randomness\"\n",
        "  response = openai.Completion.create(\n",
        "    model=\"text-davinci-003\",\n",
        "    prompt=\"Say something about Weights & Biases\",\n",
        "    max_tokens=50,\n",
        "    top_p=topp,\n",
        "    )\n",
        "  return response.choices[0].text"
      ]
    },
    {
      "cell_type": "code",
      "execution_count": null,
      "metadata": {
        "id": "nvBjHl68adUR"
      },
      "outputs": [],
      "source": [
        "for topp in [0.01, 0.1, 0.5, 1]:\n",
        "  pprint(f'TOP_P: {topp}, GENERATION: {generate_with_topp(topp)}')"
      ]
    },
    {
      "cell_type": "markdown",
      "metadata": {
        "id": "Rsn7TQQsadUR"
      },
      "source": [
        "# Chat API"
      ]
    },
    {
      "cell_type": "markdown",
      "metadata": {
        "id": "0UC50oMnadUR"
      },
      "source": [
        "Let's switch to chat mode and see how the model responds to our messages. We have some control over the model's response by passing a `system-role`, here we can steer to model to adhere to a certain behaviour.\n",
        "\n",
        "> We are using `gpt-3.5-turbo`, this model is faster and cheaper than `davinci-003`"
      ]
    },
    {
      "cell_type": "code",
      "execution_count": null,
      "metadata": {
        "id": "CLuW4kb6adUS"
      },
      "outputs": [],
      "source": [
        "MODEL = \"gpt-3.5-turbo\"\n",
        "response = openai.ChatCompletion.create(\n",
        "    model=MODEL,\n",
        "    messages=[\n",
        "        {\"role\": \"system\", \"content\": \"You are a helpful assistant.\"},\n",
        "        {\"role\": \"user\", \"content\": \"Say something about Weights & Biases\"},\n",
        "    ],\n",
        "    temperature=0,\n",
        ")\n",
        "\n",
        "response"
      ]
    },
    {
      "cell_type": "markdown",
      "metadata": {
        "id": "Q6_i8UNPadUS"
      },
      "source": [
        "As you can see above, the response is a JSON object with relevant information about the request."
      ]
    },
    {
      "cell_type": "code",
      "execution_count": null,
      "metadata": {
        "id": "2ct-Qr9EadUS"
      },
      "outputs": [],
      "source": [
        "pprint(response.choices[0].message.content)"
      ]
    },
    {
      "cell_type": "code",
      "execution_count": null,
      "metadata": {
        "id": "OjtZLfTmadUS"
      },
      "outputs": [],
      "source": [
        "wandb.finish()"
      ]
    },
    {
      "cell_type": "code",
      "execution_count": null,
      "metadata": {
        "id": "BHSG2pk7adUS"
      },
      "outputs": [],
      "source": []
    }
  ],
  "metadata": {
    "accelerator": "GPU",
    "colab": {
      "provenance": [],
      "toc_visible": true,
      "include_colab_link": true
    },
    "kernelspec": {
      "display_name": "Python 3",
      "language": "python",
      "name": "python3"
    },
    "language_info": {
      "codemirror_mode": {
        "name": "ipython",
        "version": 3
      },
      "file_extension": ".py",
      "mimetype": "text/x-python",
      "name": "python",
      "nbconvert_exporter": "python",
      "pygments_lexer": "ipython3",
      "version": "3.8.13"
    }
  },
  "nbformat": 4,
  "nbformat_minor": 0
}